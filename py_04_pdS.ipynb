{
  "nbformat": 4,
  "nbformat_minor": 0,
  "metadata": {
    "colab": {
      "name": "py_04_pdS.ipynb",
      "provenance": [],
      "collapsed_sections": [],
      "toc_visible": true,
      "authorship_tag": "ABX9TyPejR6+zImT4fVkIwDFNAEY",
      "include_colab_link": true
    },
    "kernelspec": {
      "name": "python3",
      "display_name": "Python 3"
    }
  },
  "cells": [
    {
      "cell_type": "markdown",
      "metadata": {
        "id": "view-in-github",
        "colab_type": "text"
      },
      "source": [
        "<a href=\"https://colab.research.google.com/github/ksh001/ksh0011/blob/main/py_04_pdS.ipynb\" target=\"_parent\"><img src=\"https://colab.research.google.com/assets/colab-badge.svg\" alt=\"Open In Colab\"/></a>"
      ]
    },
    {
      "cell_type": "markdown",
      "metadata": {
        "id": "VOQ91HIGHVKv"
      },
      "source": [
        "#Pandas Study 03 복습 "
      ]
    },
    {
      "cell_type": "code",
      "metadata": {
        "colab": {
          "base_uri": "https://localhost:8080/",
          "height": 195
        },
        "id": "oxkMGt98QorF",
        "outputId": "d4d4dcb7-4285-48cf-88bd-d2701d504d38"
      },
      "source": [
        "import pandas as pd\r\n",
        "\r\n",
        "df = pd.DataFrame(\r\n",
        "    {'a' : [3, 2, 3, 5, None],\r\n",
        "     'b' : [45, 60, 9, 100, 12],\r\n",
        "     'c' : [4, 203, 123, 7, 4],\r\n",
        "     'd' : [45, 2, 9, 100, 12],\r\n",
        "     'e' : [4, 203, 123, 7, None]},\r\n",
        "   index = [1, 2, 3, 4, 5])\r\n",
        "\r\n",
        "df"
      ],
      "execution_count": 206,
      "outputs": [
        {
          "output_type": "execute_result",
          "data": {
            "text/html": [
              "<div>\n",
              "<style scoped>\n",
              "    .dataframe tbody tr th:only-of-type {\n",
              "        vertical-align: middle;\n",
              "    }\n",
              "\n",
              "    .dataframe tbody tr th {\n",
              "        vertical-align: top;\n",
              "    }\n",
              "\n",
              "    .dataframe thead th {\n",
              "        text-align: right;\n",
              "    }\n",
              "</style>\n",
              "<table border=\"1\" class=\"dataframe\">\n",
              "  <thead>\n",
              "    <tr style=\"text-align: right;\">\n",
              "      <th></th>\n",
              "      <th>a</th>\n",
              "      <th>b</th>\n",
              "      <th>c</th>\n",
              "      <th>d</th>\n",
              "      <th>e</th>\n",
              "    </tr>\n",
              "  </thead>\n",
              "  <tbody>\n",
              "    <tr>\n",
              "      <th>1</th>\n",
              "      <td>3.0</td>\n",
              "      <td>45</td>\n",
              "      <td>4</td>\n",
              "      <td>45</td>\n",
              "      <td>4.0</td>\n",
              "    </tr>\n",
              "    <tr>\n",
              "      <th>2</th>\n",
              "      <td>2.0</td>\n",
              "      <td>60</td>\n",
              "      <td>203</td>\n",
              "      <td>2</td>\n",
              "      <td>203.0</td>\n",
              "    </tr>\n",
              "    <tr>\n",
              "      <th>3</th>\n",
              "      <td>3.0</td>\n",
              "      <td>9</td>\n",
              "      <td>123</td>\n",
              "      <td>9</td>\n",
              "      <td>123.0</td>\n",
              "    </tr>\n",
              "    <tr>\n",
              "      <th>4</th>\n",
              "      <td>5.0</td>\n",
              "      <td>100</td>\n",
              "      <td>7</td>\n",
              "      <td>100</td>\n",
              "      <td>7.0</td>\n",
              "    </tr>\n",
              "    <tr>\n",
              "      <th>5</th>\n",
              "      <td>NaN</td>\n",
              "      <td>12</td>\n",
              "      <td>4</td>\n",
              "      <td>12</td>\n",
              "      <td>NaN</td>\n",
              "    </tr>\n",
              "  </tbody>\n",
              "</table>\n",
              "</div>"
            ],
            "text/plain": [
              "     a    b    c    d      e\n",
              "1  3.0   45    4   45    4.0\n",
              "2  2.0   60  203    2  203.0\n",
              "3  3.0    9  123    9  123.0\n",
              "4  5.0  100    7  100    7.0\n",
              "5  NaN   12    4   12    NaN"
            ]
          },
          "metadata": {
            "tags": []
          },
          "execution_count": 206
        }
      ]
    },
    {
      "cell_type": "code",
      "metadata": {
        "colab": {
          "base_uri": "https://localhost:8080/",
          "height": 166
        },
        "id": "xtLePfEvS4LJ",
        "outputId": "c8b0dd25-48a2-48f3-a205-b7baa51d8350"
      },
      "source": [
        "df.dropna() #none을 drop"
      ],
      "execution_count": 8,
      "outputs": [
        {
          "output_type": "execute_result",
          "data": {
            "text/html": [
              "<div>\n",
              "<style scoped>\n",
              "    .dataframe tbody tr th:only-of-type {\n",
              "        vertical-align: middle;\n",
              "    }\n",
              "\n",
              "    .dataframe tbody tr th {\n",
              "        vertical-align: top;\n",
              "    }\n",
              "\n",
              "    .dataframe thead th {\n",
              "        text-align: right;\n",
              "    }\n",
              "</style>\n",
              "<table border=\"1\" class=\"dataframe\">\n",
              "  <thead>\n",
              "    <tr style=\"text-align: right;\">\n",
              "      <th></th>\n",
              "      <th>a</th>\n",
              "      <th>b</th>\n",
              "      <th>c</th>\n",
              "      <th>d</th>\n",
              "    </tr>\n",
              "  </thead>\n",
              "  <tbody>\n",
              "    <tr>\n",
              "      <th>1</th>\n",
              "      <td>3.0</td>\n",
              "      <td>45</td>\n",
              "      <td>4</td>\n",
              "      <td>45</td>\n",
              "    </tr>\n",
              "    <tr>\n",
              "      <th>2</th>\n",
              "      <td>3.0</td>\n",
              "      <td>2</td>\n",
              "      <td>23</td>\n",
              "      <td>2</td>\n",
              "    </tr>\n",
              "    <tr>\n",
              "      <th>3</th>\n",
              "      <td>4.0</td>\n",
              "      <td>9</td>\n",
              "      <td>123</td>\n",
              "      <td>9</td>\n",
              "    </tr>\n",
              "    <tr>\n",
              "      <th>4</th>\n",
              "      <td>5.0</td>\n",
              "      <td>100</td>\n",
              "      <td>3</td>\n",
              "      <td>100</td>\n",
              "    </tr>\n",
              "  </tbody>\n",
              "</table>\n",
              "</div>"
            ],
            "text/plain": [
              "     a    b    c    d\n",
              "1  3.0   45    4   45\n",
              "2  3.0    2   23    2\n",
              "3  4.0    9  123    9\n",
              "4  5.0  100    3  100"
            ]
          },
          "metadata": {
            "tags": []
          },
          "execution_count": 8
        }
      ]
    },
    {
      "cell_type": "code",
      "metadata": {
        "colab": {
          "base_uri": "https://localhost:8080/",
          "height": 195
        },
        "id": "AbpFm1-1S-xn",
        "outputId": "81697e74-032c-4ede-fc62-ffe2e7fc009d"
      },
      "source": [
        "df.fillna(3) #none에 값 대입"
      ],
      "execution_count": 209,
      "outputs": [
        {
          "output_type": "execute_result",
          "data": {
            "text/html": [
              "<div>\n",
              "<style scoped>\n",
              "    .dataframe tbody tr th:only-of-type {\n",
              "        vertical-align: middle;\n",
              "    }\n",
              "\n",
              "    .dataframe tbody tr th {\n",
              "        vertical-align: top;\n",
              "    }\n",
              "\n",
              "    .dataframe thead th {\n",
              "        text-align: right;\n",
              "    }\n",
              "</style>\n",
              "<table border=\"1\" class=\"dataframe\">\n",
              "  <thead>\n",
              "    <tr style=\"text-align: right;\">\n",
              "      <th></th>\n",
              "      <th>a</th>\n",
              "      <th>b</th>\n",
              "      <th>c</th>\n",
              "      <th>d</th>\n",
              "      <th>e</th>\n",
              "    </tr>\n",
              "  </thead>\n",
              "  <tbody>\n",
              "    <tr>\n",
              "      <th>1</th>\n",
              "      <td>3.0</td>\n",
              "      <td>45</td>\n",
              "      <td>4</td>\n",
              "      <td>45</td>\n",
              "      <td>4.0</td>\n",
              "    </tr>\n",
              "    <tr>\n",
              "      <th>2</th>\n",
              "      <td>2.0</td>\n",
              "      <td>60</td>\n",
              "      <td>203</td>\n",
              "      <td>2</td>\n",
              "      <td>203.0</td>\n",
              "    </tr>\n",
              "    <tr>\n",
              "      <th>3</th>\n",
              "      <td>3.0</td>\n",
              "      <td>9</td>\n",
              "      <td>123</td>\n",
              "      <td>9</td>\n",
              "      <td>123.0</td>\n",
              "    </tr>\n",
              "    <tr>\n",
              "      <th>4</th>\n",
              "      <td>5.0</td>\n",
              "      <td>100</td>\n",
              "      <td>7</td>\n",
              "      <td>100</td>\n",
              "      <td>7.0</td>\n",
              "    </tr>\n",
              "    <tr>\n",
              "      <th>5</th>\n",
              "      <td>400.0</td>\n",
              "      <td>12</td>\n",
              "      <td>4</td>\n",
              "      <td>12</td>\n",
              "      <td>3.0</td>\n",
              "    </tr>\n",
              "  </tbody>\n",
              "</table>\n",
              "</div>"
            ],
            "text/plain": [
              "       a    b    c    d      e\n",
              "1    3.0   45    4   45    4.0\n",
              "2    2.0   60  203    2  203.0\n",
              "3    3.0    9  123    9  123.0\n",
              "4    5.0  100    7  100    7.0\n",
              "5  400.0   12    4   12    3.0"
            ]
          },
          "metadata": {
            "tags": []
          },
          "execution_count": 209
        }
      ]
    },
    {
      "cell_type": "code",
      "metadata": {
        "colab": {
          "base_uri": "https://localhost:8080/",
          "height": 195
        },
        "id": "3evpXab5TNOP",
        "outputId": "716aec9e-384c-4fcb-91e4-5055dde36dee"
      },
      "source": [
        "df.loc[5, 'a'] = 400\r\n",
        "df"
      ],
      "execution_count": 208,
      "outputs": [
        {
          "output_type": "execute_result",
          "data": {
            "text/html": [
              "<div>\n",
              "<style scoped>\n",
              "    .dataframe tbody tr th:only-of-type {\n",
              "        vertical-align: middle;\n",
              "    }\n",
              "\n",
              "    .dataframe tbody tr th {\n",
              "        vertical-align: top;\n",
              "    }\n",
              "\n",
              "    .dataframe thead th {\n",
              "        text-align: right;\n",
              "    }\n",
              "</style>\n",
              "<table border=\"1\" class=\"dataframe\">\n",
              "  <thead>\n",
              "    <tr style=\"text-align: right;\">\n",
              "      <th></th>\n",
              "      <th>a</th>\n",
              "      <th>b</th>\n",
              "      <th>c</th>\n",
              "      <th>d</th>\n",
              "      <th>e</th>\n",
              "    </tr>\n",
              "  </thead>\n",
              "  <tbody>\n",
              "    <tr>\n",
              "      <th>1</th>\n",
              "      <td>3.0</td>\n",
              "      <td>45</td>\n",
              "      <td>4</td>\n",
              "      <td>45</td>\n",
              "      <td>4.0</td>\n",
              "    </tr>\n",
              "    <tr>\n",
              "      <th>2</th>\n",
              "      <td>2.0</td>\n",
              "      <td>60</td>\n",
              "      <td>203</td>\n",
              "      <td>2</td>\n",
              "      <td>203.0</td>\n",
              "    </tr>\n",
              "    <tr>\n",
              "      <th>3</th>\n",
              "      <td>3.0</td>\n",
              "      <td>9</td>\n",
              "      <td>123</td>\n",
              "      <td>9</td>\n",
              "      <td>123.0</td>\n",
              "    </tr>\n",
              "    <tr>\n",
              "      <th>4</th>\n",
              "      <td>5.0</td>\n",
              "      <td>100</td>\n",
              "      <td>7</td>\n",
              "      <td>100</td>\n",
              "      <td>7.0</td>\n",
              "    </tr>\n",
              "    <tr>\n",
              "      <th>5</th>\n",
              "      <td>400.0</td>\n",
              "      <td>12</td>\n",
              "      <td>4</td>\n",
              "      <td>12</td>\n",
              "      <td>NaN</td>\n",
              "    </tr>\n",
              "  </tbody>\n",
              "</table>\n",
              "</div>"
            ],
            "text/plain": [
              "       a    b    c    d      e\n",
              "1    3.0   45    4   45    4.0\n",
              "2    2.0   60  203    2  203.0\n",
              "3    3.0    9  123    9  123.0\n",
              "4    5.0  100    7  100    7.0\n",
              "5  400.0   12    4   12    NaN"
            ]
          },
          "metadata": {
            "tags": []
          },
          "execution_count": 208
        }
      ]
    },
    {
      "cell_type": "markdown",
      "metadata": {
        "id": "yJ-4KN4OltwD"
      },
      "source": [
        "##qcut\r\n",
        "    특정 행을 n등분해서 구간을 같은 개수로 구간으로 나눠준다. 구간의 이름을 설정하지 않으면(==False) 0123 등으로 구분한다.\r\n",
        "    수로 이루어진 값을 구간을 나누어 구역으로 문자화 할 때 씀"
      ]
    },
    {
      "cell_type": "code",
      "metadata": {
        "colab": {
          "base_uri": "https://localhost:8080/"
        },
        "id": "FrT4JoNYl-lE",
        "outputId": "868ba4ec-6afe-4a18-ea48-c0ffb0d608f3"
      },
      "source": [
        "pd.qcut(df.d, 5, labels=False) "
      ],
      "execution_count": 137,
      "outputs": [
        {
          "output_type": "execute_result",
          "data": {
            "text/plain": [
              "1    3\n",
              "2    0\n",
              "3    1\n",
              "4    4\n",
              "5    2\n",
              "Name: d, dtype: int64"
            ]
          },
          "metadata": {
            "tags": []
          },
          "execution_count": 137
        }
      ]
    },
    {
      "cell_type": "code",
      "metadata": {
        "colab": {
          "base_uri": "https://localhost:8080/"
        },
        "id": "SEJrHbGJ340H",
        "outputId": "2a35c2a5-6fc9-46e2-d2d6-5d656c02712b"
      },
      "source": [
        "pd.qcut(df.d, 5) "
      ],
      "execution_count": 214,
      "outputs": [
        {
          "output_type": "execute_result",
          "data": {
            "text/plain": [
              "1     (25.2, 56.0]\n",
              "2     (1.999, 7.6]\n",
              "3      (7.6, 10.8]\n",
              "4    (56.0, 100.0]\n",
              "5     (10.8, 25.2]\n",
              "Name: d, dtype: category\n",
              "Categories (5, interval[float64]): [(1.999, 7.6] < (7.6, 10.8] < (10.8, 25.2] < (25.2, 56.0] <\n",
              "                                    (56.0, 100.0]]"
            ]
          },
          "metadata": {
            "tags": []
          },
          "execution_count": 214
        }
      ]
    },
    {
      "cell_type": "code",
      "metadata": {
        "colab": {
          "base_uri": "https://localhost:8080/"
        },
        "id": "SeBcw7hQTPlX",
        "outputId": "cfc4464b-c5cf-41bc-f9e5-0fdd3103126e"
      },
      "source": [
        "pd.qcut(df.a, 3, labels=['small', 'medium', 'big'])"
      ],
      "execution_count": 213,
      "outputs": [
        {
          "output_type": "execute_result",
          "data": {
            "text/plain": [
              "1    small\n",
              "2    small\n",
              "3    small\n",
              "4      big\n",
              "5      big\n",
              "Name: a, dtype: category\n",
              "Categories (3, object): ['small' < 'medium' < 'big']"
            ]
          },
          "metadata": {
            "tags": []
          },
          "execution_count": 213
        }
      ]
    },
    {
      "cell_type": "code",
      "metadata": {
        "colab": {
          "base_uri": "https://localhost:8080/"
        },
        "id": "oakdoOR0WJM0",
        "outputId": "891f9689-3db8-459a-dc63-e69ce2bef22d"
      },
      "source": [
        "pd.qcut(df.b, 4, labels=['s', 'm1', 'm2', 'b'])"
      ],
      "execution_count": 61,
      "outputs": [
        {
          "output_type": "execute_result",
          "data": {
            "text/plain": [
              "1    m1\n",
              "2    m2\n",
              "3     s\n",
              "4     b\n",
              "5     s\n",
              "Name: b, dtype: category\n",
              "Categories (4, object): ['s' < 'm1' < 'm2' < 'b']"
            ]
          },
          "metadata": {
            "tags": []
          },
          "execution_count": 61
        }
      ]
    },
    {
      "cell_type": "code",
      "metadata": {
        "colab": {
          "base_uri": "https://localhost:8080/"
        },
        "id": "8rEGAaNyrHRO",
        "outputId": "be59c20a-66ac-458f-9b6f-b208d6eddcf1"
      },
      "source": [
        "pd.qcut(df.d, 10, labels=False) "
      ],
      "execution_count": 138,
      "outputs": [
        {
          "output_type": "execute_result",
          "data": {
            "text/plain": [
              "1    7\n",
              "2    0\n",
              "3    2\n",
              "4    9\n",
              "5    4\n",
              "Name: d, dtype: int64"
            ]
          },
          "metadata": {
            "tags": []
          },
          "execution_count": 138
        }
      ]
    },
    {
      "cell_type": "markdown",
      "metadata": {
        "id": "Qb6MIqiHk4oe"
      },
      "source": [
        "###qcut의 오류 원인\r\n",
        "\r\n",
        "You can drop duplicate edges by setting the 'duplicates' kwarg\r\n",
        "\r\n",
        "https://stackoverflow.com/questions/20158597/how-to-qcut-with-non-unique-bin-edges\r\n",
        "\r\n",
        "  The problem is that pandas.qcut chooses the bins/quantiles so that each one has the same number of records, but all records with the same value must stay in the same bin/quantile (this behaviour is in accordance with the statistical definition of quantile).\r\n",
        "\r\n",
        "    pandas.qcut은 각 기록이 동일한 수의 레코드를 가질 수 있도록 bin/누적백분율를 선택하는데, 값이 동일한 모든 레코드는 동일한 bin/누적백분율에 있어야 한다\r\n",
        "    (누적백분율의 통계적 정의에 따라 작동하도록 설계돼있다)."
      ]
    },
    {
      "cell_type": "code",
      "metadata": {
        "colab": {
          "base_uri": "https://localhost:8080/"
        },
        "id": "lDrx1CzVWYR-",
        "outputId": "ded5bb17-f3ab-4df3-f764-dcfa4cf4d2ef"
      },
      "source": [
        "pd.qcut(df.c, 3, labels=False)\r\n",
        "#pd.qcut(df.a, 4, labels=False)"
      ],
      "execution_count": 194,
      "outputs": [
        {
          "output_type": "execute_result",
          "data": {
            "text/plain": [
              "1    0\n",
              "2    2\n",
              "3    2\n",
              "4    1\n",
              "5    0\n",
              "Name: c, dtype: int64"
            ]
          },
          "metadata": {
            "tags": []
          },
          "execution_count": 194
        }
      ]
    },
    {
      "cell_type": "code",
      "metadata": {
        "colab": {
          "base_uri": "https://localhost:8080/",
          "height": 195
        },
        "id": "EjykbNnEqFIc",
        "outputId": "4d4b3c44-442c-470e-8953-077b84435960"
      },
      "source": [
        "df"
      ],
      "execution_count": 190,
      "outputs": [
        {
          "output_type": "execute_result",
          "data": {
            "text/html": [
              "<div>\n",
              "<style scoped>\n",
              "    .dataframe tbody tr th:only-of-type {\n",
              "        vertical-align: middle;\n",
              "    }\n",
              "\n",
              "    .dataframe tbody tr th {\n",
              "        vertical-align: top;\n",
              "    }\n",
              "\n",
              "    .dataframe thead th {\n",
              "        text-align: right;\n",
              "    }\n",
              "</style>\n",
              "<table border=\"1\" class=\"dataframe\">\n",
              "  <thead>\n",
              "    <tr style=\"text-align: right;\">\n",
              "      <th></th>\n",
              "      <th>a</th>\n",
              "      <th>b</th>\n",
              "      <th>c</th>\n",
              "      <th>d</th>\n",
              "      <th>e</th>\n",
              "    </tr>\n",
              "  </thead>\n",
              "  <tbody>\n",
              "    <tr>\n",
              "      <th>1</th>\n",
              "      <td>3.0</td>\n",
              "      <td>45</td>\n",
              "      <td>4</td>\n",
              "      <td>45</td>\n",
              "      <td>4.0</td>\n",
              "    </tr>\n",
              "    <tr>\n",
              "      <th>2</th>\n",
              "      <td>3.0</td>\n",
              "      <td>60</td>\n",
              "      <td>203</td>\n",
              "      <td>2</td>\n",
              "      <td>203.0</td>\n",
              "    </tr>\n",
              "    <tr>\n",
              "      <th>3</th>\n",
              "      <td>3.0</td>\n",
              "      <td>9</td>\n",
              "      <td>123</td>\n",
              "      <td>9</td>\n",
              "      <td>123.0</td>\n",
              "    </tr>\n",
              "    <tr>\n",
              "      <th>4</th>\n",
              "      <td>5.0</td>\n",
              "      <td>100</td>\n",
              "      <td>7</td>\n",
              "      <td>100</td>\n",
              "      <td>7.0</td>\n",
              "    </tr>\n",
              "    <tr>\n",
              "      <th>5</th>\n",
              "      <td>NaN</td>\n",
              "      <td>12</td>\n",
              "      <td>4</td>\n",
              "      <td>12</td>\n",
              "      <td>NaN</td>\n",
              "    </tr>\n",
              "  </tbody>\n",
              "</table>\n",
              "</div>"
            ],
            "text/plain": [
              "     a    b    c    d      e\n",
              "1  3.0   45    4   45    4.0\n",
              "2  3.0   60  203    2  203.0\n",
              "3  3.0    9  123    9  123.0\n",
              "4  5.0  100    7  100    7.0\n",
              "5  NaN   12    4   12    NaN"
            ]
          },
          "metadata": {
            "tags": []
          },
          "execution_count": 190
        }
      ]
    },
    {
      "cell_type": "code",
      "metadata": {
        "colab": {
          "base_uri": "https://localhost:8080/"
        },
        "id": "75AJwWqalAbT",
        "outputId": "6455e107-62f7-40d8-846e-f5b5003f471f"
      },
      "source": [
        "pd.qcut(df.c, 3)"
      ],
      "execution_count": 165,
      "outputs": [
        {
          "output_type": "execute_result",
          "data": {
            "text/plain": [
              "1       (3.999, 5.0]\n",
              "2    (84.333, 203.0]\n",
              "3    (84.333, 203.0]\n",
              "4      (5.0, 84.333]\n",
              "5       (3.999, 5.0]\n",
              "Name: c, dtype: category\n",
              "Categories (3, interval[float64]): [(3.999, 5.0] < (5.0, 84.333] < (84.333, 203.0]]"
            ]
          },
          "metadata": {
            "tags": []
          },
          "execution_count": 165
        }
      ]
    },
    {
      "cell_type": "markdown",
      "metadata": {
        "id": "2RpxxMdpt1zw"
      },
      "source": [
        "    (3.999, 7.0]\r\n",
        "    (7.0, 123.0]\r\n",
        "    (123.0, 203.0] 처럼 될 것 같지만 이와 다름."
      ]
    },
    {
      "cell_type": "code",
      "metadata": {
        "colab": {
          "base_uri": "https://localhost:8080/"
        },
        "id": "w0joHWwruGgK",
        "outputId": "25bddf7e-a7a2-4a05-fec4-705d61bb3e39"
      },
      "source": [
        "df.c.quantile([0, 0.333333333, 0.66666666, 1]) #백분율이 4를 두개 포함하는 실 백분율임"
      ],
      "execution_count": 187,
      "outputs": [
        {
          "output_type": "execute_result",
          "data": {
            "text/plain": [
              "0.000000      4.00000\n",
              "0.333333      5.00000\n",
              "0.666667     84.33333\n",
              "1.000000    203.00000\n",
              "Name: c, dtype: float64"
            ]
          },
          "metadata": {
            "tags": []
          },
          "execution_count": 187
        }
      ]
    },
    {
      "cell_type": "code",
      "metadata": {
        "colab": {
          "base_uri": "https://localhost:8080/"
        },
        "id": "Y66JIgWhveBw",
        "outputId": "480408c3-ecf0-4075-f9ce-932e0af7d09c"
      },
      "source": [
        "df.e.quantile([0, 0.333333333, 0.666666666, 1])"
      ],
      "execution_count": 183,
      "outputs": [
        {
          "output_type": "execute_result",
          "data": {
            "text/plain": [
              "0.000000      4.0\n",
              "0.333333      7.0\n",
              "0.666667    123.0\n",
              "1.000000    203.0\n",
              "Name: e, dtype: float64"
            ]
          },
          "metadata": {
            "tags": []
          },
          "execution_count": 183
        }
      ]
    },
    {
      "cell_type": "code",
      "metadata": {
        "colab": {
          "base_uri": "https://localhost:8080/"
        },
        "id": "hD_ihu3juY9k",
        "outputId": "be96cf83-24f5-4af4-b9a9-0a4e6def6542"
      },
      "source": [
        "df.c.quantile([0, 0.25, 0.5, 0.75, 1]) #누적백분율이 4를 두개 포함하여 계산됐었다는 것을 알 수 있다. 4 4 7 123 203"
      ],
      "execution_count": 177,
      "outputs": [
        {
          "output_type": "execute_result",
          "data": {
            "text/plain": [
              "0.00      4.0\n",
              "0.25      4.0\n",
              "0.50      7.0\n",
              "0.75    123.0\n",
              "1.00    203.0\n",
              "Name: c, dtype: float64"
            ]
          },
          "metadata": {
            "tags": []
          },
          "execution_count": 177
        }
      ]
    },
    {
      "cell_type": "markdown",
      "metadata": {
        "id": "fcMwS-niwRse"
      },
      "source": [
        "    (3.999, 4.0]\r\n",
        "    (4.0, 7.0] \r\n",
        "    (7.0, 123.0] \r\n",
        "    (123.0, 203.0] \r\n",
        "\r\n",
        "    quantile(누적백분율)의 통계적 정의를 따를 때, 4,4,7,123, 203에서 4와 4는 같은 위치에 있어야 하므로 4, 7, 123, 203으로 나누는 것이 맞다. \r\n",
        "    다른 코드에서도 직접적으로 코드가 오류가 안나면 맞는 것처럼 보이지만, 사실은 틀린 값이었다."
      ]
    },
    {
      "cell_type": "code",
      "metadata": {
        "colab": {
          "base_uri": "https://localhost:8080/"
        },
        "id": "PU6Ong8avoSL",
        "outputId": "dc7e0b96-d3ae-40f4-b9e7-b66b0b95acb3"
      },
      "source": [
        "df.e.quantile([0, 0.25, 0.5, 0.75, 1]) #실제 4, 7, 123, 203의 백분율은 이렇게 나와야 한다. "
      ],
      "execution_count": 174,
      "outputs": [
        {
          "output_type": "execute_result",
          "data": {
            "text/plain": [
              "0.00      4.00\n",
              "0.25      6.25\n",
              "0.50     65.00\n",
              "0.75    143.00\n",
              "1.00    203.00\n",
              "Name: e, dtype: float64"
            ]
          },
          "metadata": {
            "tags": []
          },
          "execution_count": 174
        }
      ]
    },
    {
      "cell_type": "markdown",
      "metadata": {
        "id": "jG-G1nY0z0iD"
      },
      "source": [
        "## 다른 코드에서도 직접적으로 코드가 오류가 안나면 맞는 것처럼 보이지만, 사실은 틀린 값이었다."
      ]
    },
    {
      "cell_type": "code",
      "metadata": {
        "colab": {
          "base_uri": "https://localhost:8080/"
        },
        "id": "GwPIDqQJzV4M",
        "outputId": "e801480c-790c-47f5-8dab-61e08734ffbc"
      },
      "source": [
        "pd.qcut(df.c, 3, labels = False)"
      ],
      "execution_count": 179,
      "outputs": [
        {
          "output_type": "execute_result",
          "data": {
            "text/plain": [
              "1    0\n",
              "2    2\n",
              "3    2\n",
              "4    1\n",
              "5    0\n",
              "Name: c, dtype: int64"
            ]
          },
          "metadata": {
            "tags": []
          },
          "execution_count": 179
        }
      ]
    },
    {
      "cell_type": "code",
      "metadata": {
        "colab": {
          "base_uri": "https://localhost:8080/"
        },
        "id": "MNEu08EFzhiJ",
        "outputId": "c47241a0-ac01-419c-b6f4-3f729325d13e"
      },
      "source": [
        "pd.qcut(df.e, 3, labels = False)"
      ],
      "execution_count": 180,
      "outputs": [
        {
          "output_type": "execute_result",
          "data": {
            "text/plain": [
              "1    0.0\n",
              "2    2.0\n",
              "3    1.0\n",
              "4    0.0\n",
              "5    NaN\n",
              "Name: e, dtype: float64"
            ]
          },
          "metadata": {
            "tags": []
          },
          "execution_count": 180
        }
      ]
    },
    {
      "cell_type": "markdown",
      "metadata": {
        "id": "W1DwNjxz0avO"
      },
      "source": [
        "###   4칸일때만 오류가 나는 이유\r\n",
        "\r\n",
        "    "
      ]
    },
    {
      "cell_type": "markdown",
      "metadata": {
        "id": "bo6VfCYX1hUn"
      },
      "source": [
        "    0  (3.999, 4.0] -> 이러한 구간이 만들어질 때 부터 디버깅 오류가 난다.\r\n",
        "    1  (4.0, 7.0] \r\n",
        "    2  (7.0, 123.0] \r\n",
        "    3  (123.0, 203.0] "
      ]
    },
    {
      "cell_type": "code",
      "metadata": {
        "colab": {
          "base_uri": "https://localhost:8080/"
        },
        "id": "cv7sIYqN5HZV",
        "outputId": "c53d8355-e38b-4a27-f94a-898c9800b233"
      },
      "source": [
        "pd.qcut(df.e, 10000)"
      ],
      "execution_count": 220,
      "outputs": [
        {
          "output_type": "execute_result",
          "data": {
            "text/plain": [
              "1       (3.9999, 4.0009]\n",
              "2       (202.976, 203.0]\n",
              "3    (122.9768, 123.008]\n",
              "4       (6.9997, 7.0232]\n",
              "5                    NaN\n",
              "Name: e, dtype: category\n",
              "Categories (10000, interval[float64]): [(3.9999, 4.0009] < (4.0009, 4.0018] < (4.0018, 4.0027] <\n",
              "                                        (4.0027, 4.0036] ... (202.904, 202.928] <\n",
              "                                        (202.928, 202.952] < (202.952, 202.976] < (202.976, 203.0]]"
            ]
          },
          "metadata": {
            "tags": []
          },
          "execution_count": 220
        }
      ]
    },
    {
      "cell_type": "code",
      "metadata": {
        "id": "CI42wLkJWiWJ"
      },
      "source": [
        "#pd.qcut(df.a, 4) 오류코드"
      ],
      "execution_count": 110,
      "outputs": []
    },
    {
      "cell_type": "code",
      "metadata": {
        "id": "JfjCRIQqHjwX"
      },
      "source": [
        "#나중에 해보기\r\n",
        "df = (pd.melt(df)\r\n",
        "          .rename(columns={\r\n",
        "          'variable' : '칼럼이름',\r\n",
        "          'value' : '값'})\r\n",
        "          \r\n",
        "          .query('값' >= 2')\r\n",
        ")\r\n",
        "df\r\n",
        "\r\n"
      ],
      "execution_count": null,
      "outputs": []
    }
  ]
}