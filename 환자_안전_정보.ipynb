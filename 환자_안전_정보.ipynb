{
  "nbformat": 4,
  "nbformat_minor": 0,
  "metadata": {
    "colab": {
      "name": "환자 안전 정보.ipynb",
      "provenance": [],
      "collapsed_sections": [],
      "authorship_tag": "ABX9TyP5/hyOhtIPPrs9xZR6sSvt",
      "include_colab_link": true
    },
    "kernelspec": {
      "name": "python3",
      "display_name": "Python 3"
    }
  },
  "cells": [
    {
      "cell_type": "markdown",
      "metadata": {
        "id": "view-in-github",
        "colab_type": "text"
      },
      "source": [
        "<a href=\"https://colab.research.google.com/github/ksh001/python/blob/main/%ED%99%98%EC%9E%90_%EC%95%88%EC%A0%84_%EC%A0%95%EB%B3%B4.ipynb\" target=\"_parent\"><img src=\"https://colab.research.google.com/assets/colab-badge.svg\" alt=\"Open In Colab\"/></a>"
      ]
    },
    {
      "cell_type": "code",
      "metadata": {
        "colab": {
          "base_uri": "https://localhost:8080/",
          "height": 308
        },
        "id": "ZSc0FTqC3XeN",
        "outputId": "2456f5f6-a784-4eef-de78-1eece32b5f3a"
      },
      "source": [
        "import pandas as pd\r\n",
        "\r\n",
        "df = pd.read_csv('/의료기관평가인증원_환자안전 사고데이터_20181231..csv', encoding='cp949')\r\n",
        "\r\n",
        "df.head(2)"
      ],
      "execution_count": 46,
      "outputs": [
        {
          "output_type": "execute_result",
          "data": {
            "text/html": [
              "<div>\n",
              "<style scoped>\n",
              "    .dataframe tbody tr th:only-of-type {\n",
              "        vertical-align: middle;\n",
              "    }\n",
              "\n",
              "    .dataframe tbody tr th {\n",
              "        vertical-align: top;\n",
              "    }\n",
              "\n",
              "    .dataframe thead th {\n",
              "        text-align: right;\n",
              "    }\n",
              "</style>\n",
              "<table border=\"1\" class=\"dataframe\">\n",
              "  <thead>\n",
              "    <tr style=\"text-align: right;\">\n",
              "      <th></th>\n",
              "      <th>NO</th>\n",
              "      <th>보고자</th>\n",
              "      <th>사고발생일</th>\n",
              "      <th>사고발생시간</th>\n",
              "      <th>사고발견일</th>\n",
              "      <th>사고발견시간</th>\n",
              "      <th>의료기관구분</th>\n",
              "      <th>병상 규모</th>\n",
              "      <th>사고발생장소</th>\n",
              "      <th>위해정도</th>\n",
              "      <th>사고의 종류</th>\n",
              "      <th>사고 발생 후 조치사항</th>\n",
              "      <th>내부보고여부</th>\n",
              "      <th>환자_연령대</th>\n",
              "      <th>환자_성별</th>\n",
              "      <th>환자_진료과목</th>\n",
              "      <th>환자_세부진료과목</th>\n",
              "      <th>환자_사고발생진료과목</th>\n",
              "      <th>환자_사고발생세부진료과목</th>\n",
              "      <th>환자_진단명</th>\n",
              "    </tr>\n",
              "  </thead>\n",
              "  <tbody>\n",
              "    <tr>\n",
              "      <th>0</th>\n",
              "      <td>1</td>\n",
              "      <td>보건의료인</td>\n",
              "      <td>2017-12-30</td>\n",
              "      <td>06:00</td>\n",
              "      <td>2017-12-30</td>\n",
              "      <td>06:00</td>\n",
              "      <td>요양병원</td>\n",
              "      <td>200병상 이상 500병상 미만</td>\n",
              "      <td>기타</td>\n",
              "      <td>장기적인 손상 또는 부작용</td>\n",
              "      <td>낙상</td>\n",
              "      <td>기관 내 전과나 전동,전원,외래환자의 경우 응급실 방문/입원 등,모니터링(관찰,영상...</td>\n",
              "      <td>보고 수행</td>\n",
              "      <td>80세 이상</td>\n",
              "      <td>여자</td>\n",
              "      <td>의과</td>\n",
              "      <td>가정의학과</td>\n",
              "      <td>의과</td>\n",
              "      <td>가정의학과</td>\n",
              "      <td>알츠하이머병에서의 치매(G30.-+)</td>\n",
              "    </tr>\n",
              "    <tr>\n",
              "      <th>1</th>\n",
              "      <td>2</td>\n",
              "      <td>전담인력</td>\n",
              "      <td>2017-12-19</td>\n",
              "      <td>불명확</td>\n",
              "      <td>2017-12-19</td>\n",
              "      <td>불명확</td>\n",
              "      <td>종합병원</td>\n",
              "      <td>200병상 이상 500병상 미만</td>\n",
              "      <td>검사실</td>\n",
              "      <td>치료 후 후유증 없이 회복</td>\n",
              "      <td>기타</td>\n",
              "      <td>모니터링(관찰,영상판독 등),기타(협진)</td>\n",
              "      <td>보고 수행</td>\n",
              "      <td>30~39세</td>\n",
              "      <td>여자</td>\n",
              "      <td>의과</td>\n",
              "      <td>검진센터</td>\n",
              "      <td>의과</td>\n",
              "      <td>검진센터</td>\n",
              "      <td>불명확</td>\n",
              "    </tr>\n",
              "  </tbody>\n",
              "</table>\n",
              "</div>"
            ],
            "text/plain": [
              "   NO    보고자       사고발생일  ... 환자_사고발생진료과목 환자_사고발생세부진료과목                환자_진단명\n",
              "0   1  보건의료인  2017-12-30  ...          의과         가정의학과  알츠하이머병에서의 치매(G30.-+)\n",
              "1   2   전담인력  2017-12-19  ...          의과          검진센터                   불명확\n",
              "\n",
              "[2 rows x 20 columns]"
            ]
          },
          "metadata": {
            "tags": []
          },
          "execution_count": 46
        }
      ]
    },
    {
      "cell_type": "code",
      "metadata": {
        "colab": {
          "base_uri": "https://localhost:8080/"
        },
        "id": "4wCDN4y878j9",
        "outputId": "2c2aa530-d78c-47ac-9f7a-ba3f6fbb460c"
      },
      "source": [
        "df1=df[df['사고의 종류'] == '낙상']\r\n",
        "df2=df1.reindex(columns=['사고발생장소', '사고의 종류', '환자_연령대'])\r\n",
        "df2['환자_연령대'].value_counts()"
      ],
      "execution_count": 44,
      "outputs": [
        {
          "output_type": "execute_result",
          "data": {
            "text/plain": [
              "80세 이상    1235\n",
              "70~79세    1141\n",
              "60~69세     796\n",
              "50~59세     489\n",
              "40~49세     193\n",
              "불명확        120\n",
              "30~39세      89\n",
              "1~9세        80\n",
              "20~29세      44\n",
              "0세          20\n",
              "10~19세      17\n",
              "Name: 환자_연령대, dtype: int64"
            ]
          },
          "metadata": {
            "tags": []
          },
          "execution_count": 44
        }
      ]
    }
  ]
}