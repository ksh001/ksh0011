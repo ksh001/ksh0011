{
  "nbformat": 4,
  "nbformat_minor": 0,
  "metadata": {
    "colab": {
      "name": "py_02.ipynb",
      "provenance": [],
      "collapsed_sections": [],
      "toc_visible": true,
      "authorship_tag": "ABX9TyOBLtJ/Lfyedt3RrjCJ06tl",
      "include_colab_link": true
    },
    "kernelspec": {
      "name": "python3",
      "display_name": "Python 3"
    }
  },
  "cells": [
    {
      "cell_type": "markdown",
      "metadata": {
        "id": "view-in-github",
        "colab_type": "text"
      },
      "source": [
        "<a href=\"https://colab.research.google.com/github/ksh001/ksh0011/blob/main/py_02.ipynb\" target=\"_parent\"><img src=\"https://colab.research.google.com/assets/colab-badge.svg\" alt=\"Open In Colab\"/></a>"
      ]
    },
    {
      "cell_type": "markdown",
      "metadata": {
        "id": "MiyN_IkY22lj"
      },
      "source": [
        "# **Python의 기본개념 익히기**"
      ]
    },
    {
      "cell_type": "markdown",
      "metadata": {
        "id": "ojy1sd9U3D40"
      },
      "source": [
        "## 1. print()* : 출력"
      ]
    },
    {
      "cell_type": "code",
      "metadata": {
        "colab": {
          "base_uri": "https://localhost:8080/"
        },
        "id": "IlpZnFIF3HoY",
        "outputId": "50a653a0-86aa-4068-95e3-ab811c395310"
      },
      "source": [
        "print(3)"
      ],
      "execution_count": 1,
      "outputs": [
        {
          "output_type": "stream",
          "text": [
            "3\n"
          ],
          "name": "stdout"
        }
      ]
    },
    {
      "cell_type": "code",
      "metadata": {
        "colab": {
          "base_uri": "https://localhost:8080/"
        },
        "id": "fo-4FVGO3JDG",
        "outputId": "5805c2c1-281d-4d81-9c8a-cf7eaf642956"
      },
      "source": [
        "print(\"adf\")"
      ],
      "execution_count": 2,
      "outputs": [
        {
          "output_type": "stream",
          "text": [
            "adf\n"
          ],
          "name": "stdout"
        }
      ]
    },
    {
      "cell_type": "code",
      "metadata": {
        "colab": {
          "base_uri": "https://localhost:8080/"
        },
        "id": "h3GJC8PU3Mx7",
        "outputId": "c88b2990-8f3a-448d-e93e-2492562abc53"
      },
      "source": [
        "print(('a',3))"
      ],
      "execution_count": 3,
      "outputs": [
        {
          "output_type": "stream",
          "text": [
            "('a', 3)\n"
          ],
          "name": "stdout"
        }
      ]
    },
    {
      "cell_type": "markdown",
      "metadata": {
        "id": "NADRVQN63U2o"
      },
      "source": [
        "## 2. input() : 사용자로부터 값 입력"
      ]
    },
    {
      "cell_type": "code",
      "metadata": {
        "colab": {
          "base_uri": "https://localhost:8080/",
          "height": 51
        },
        "id": "qtZzodHT3QIi",
        "outputId": "2c12e0f1-ae48-48aa-ef26-0534fe0ae1c5"
      },
      "source": [
        "input()"
      ],
      "execution_count": 4,
      "outputs": [
        {
          "output_type": "stream",
          "text": [
            "aaaaa\n"
          ],
          "name": "stdout"
        },
        {
          "output_type": "execute_result",
          "data": {
            "application/vnd.google.colaboratory.intrinsic+json": {
              "type": "string"
            },
            "text/plain": [
              "'aaaaa'"
            ]
          },
          "metadata": {
            "tags": []
          },
          "execution_count": 4
        }
      ]
    },
    {
      "cell_type": "markdown",
      "metadata": {
        "id": "cm_NTvMU3iCA"
      },
      "source": [
        "## 3. type() : 자료형"
      ]
    },
    {
      "cell_type": "code",
      "metadata": {
        "id": "iUnhWRwE32QH"
      },
      "source": [
        "a = 3; b = \"a\"; c = ('a',3); d = [\"a\", \"df\", 2]; e = {'a', 3}; f = True"
      ],
      "execution_count": 24,
      "outputs": []
    },
    {
      "cell_type": "code",
      "metadata": {
        "colab": {
          "base_uri": "https://localhost:8080/"
        },
        "id": "FjD0MYtT38nU",
        "outputId": "5ffef5d3-0828-42cd-d9a4-5425392fffa5"
      },
      "source": [
        "type(a) #정수형"
      ],
      "execution_count": 7,
      "outputs": [
        {
          "output_type": "execute_result",
          "data": {
            "text/plain": [
              "int"
            ]
          },
          "metadata": {
            "tags": []
          },
          "execution_count": 7
        }
      ]
    },
    {
      "cell_type": "code",
      "metadata": {
        "colab": {
          "base_uri": "https://localhost:8080/"
        },
        "id": "fWeQhgqc3_sB",
        "outputId": "c939ccb1-7f19-4295-d0d8-fc571cde957d"
      },
      "source": [
        "type(b) #문자열 "
      ],
      "execution_count": 8,
      "outputs": [
        {
          "output_type": "execute_result",
          "data": {
            "text/plain": [
              "str"
            ]
          },
          "metadata": {
            "tags": []
          },
          "execution_count": 8
        }
      ]
    },
    {
      "cell_type": "code",
      "metadata": {
        "colab": {
          "base_uri": "https://localhost:8080/"
        },
        "id": "M6ewZmFF4DhW",
        "outputId": "41fe710d-c9e2-4039-8f4d-52d476e50571"
      },
      "source": [
        "type(c) #내부 값 변경이 불가능한 list형"
      ],
      "execution_count": 14,
      "outputs": [
        {
          "output_type": "execute_result",
          "data": {
            "text/plain": [
              "tuple"
            ]
          },
          "metadata": {
            "tags": []
          },
          "execution_count": 14
        }
      ]
    },
    {
      "cell_type": "code",
      "metadata": {
        "colab": {
          "base_uri": "https://localhost:8080/"
        },
        "id": "ocNDr3LR4RIt",
        "outputId": "c405ae15-0d37-45a7-b1e6-42a60ce43a2b"
      },
      "source": [
        "type(d) #내부 값 변경이 가능한 tuple형"
      ],
      "execution_count": 19,
      "outputs": [
        {
          "output_type": "execute_result",
          "data": {
            "text/plain": [
              "list"
            ]
          },
          "metadata": {
            "tags": []
          },
          "execution_count": 19
        }
      ]
    },
    {
      "cell_type": "code",
      "metadata": {
        "colab": {
          "base_uri": "https://localhost:8080/"
        },
        "id": "1LBTNhKM4aPE",
        "outputId": "474bb2a9-c54c-4e35-9d90-80d4c0969e20"
      },
      "source": [
        "type(e) "
      ],
      "execution_count": 21,
      "outputs": [
        {
          "output_type": "execute_result",
          "data": {
            "text/plain": [
              "set"
            ]
          },
          "metadata": {
            "tags": []
          },
          "execution_count": 21
        }
      ]
    },
    {
      "cell_type": "code",
      "metadata": {
        "colab": {
          "base_uri": "https://localhost:8080/"
        },
        "id": "V1uwb4ae4jtF",
        "outputId": "647d657e-1521-43c9-b8c0-bc8780e41fcc"
      },
      "source": [
        "type(f) #참, 거짓을 판별하는 문자"
      ],
      "execution_count": 25,
      "outputs": [
        {
          "output_type": "execute_result",
          "data": {
            "text/plain": [
              "bool"
            ]
          },
          "metadata": {
            "tags": []
          },
          "execution_count": 25
        }
      ]
    },
    {
      "cell_type": "markdown",
      "metadata": {
        "id": "4udhPw6x4izb"
      },
      "source": [
        "##4. 강제 형 변환"
      ]
    },
    {
      "cell_type": "code",
      "metadata": {
        "colab": {
          "base_uri": "https://localhost:8080/"
        },
        "id": "LuCX1gc54jDl",
        "outputId": "a2974217-fd3a-4d1e-b41e-c83cfe1f7891"
      },
      "source": [
        "type(float(a))"
      ],
      "execution_count": 26,
      "outputs": [
        {
          "output_type": "execute_result",
          "data": {
            "text/plain": [
              "float"
            ]
          },
          "metadata": {
            "tags": []
          },
          "execution_count": 26
        }
      ]
    },
    {
      "cell_type": "markdown",
      "metadata": {
        "id": "lDZ63lU84cxt"
      },
      "source": [
        "##5. string의 특성"
      ]
    },
    {
      "cell_type": "code",
      "metadata": {
        "colab": {
          "base_uri": "https://localhost:8080/",
          "height": 34
        },
        "id": "_xMxtByI5Xik",
        "outputId": "e906a96b-3186-4bd7-fcdc-da171592a968"
      },
      "source": [
        "#1. C처럼 값 변경이 되지 않는 값(배열이 아니라 하나의 변수로 저장이 됨)\r\n",
        "#2. \"\"와 ''가 같은 의미로 문자를 의미\r\n",
        "#3. \"\"\"\"/'''의 응용. enter를 치면 \\n을 자동으로 입력하여 저장. 기존에서는 enter 불가\r\n",
        "A = \"\"\"\r\n",
        " aaa\r\n",
        " ddd\r\n",
        " eeee\r\n",
        "\"\"\"\r\n",
        "\r\n",
        "A #"
      ],
      "execution_count": 29,
      "outputs": [
        {
          "output_type": "execute_result",
          "data": {
            "application/vnd.google.colaboratory.intrinsic+json": {
              "type": "string"
            },
            "text/plain": [
              "'\\n    aaa\\n    ddd\\n    eeee\\n'"
            ]
          },
          "metadata": {
            "tags": []
          },
          "execution_count": 29
        }
      ]
    },
    {
      "cell_type": "markdown",
      "metadata": {
        "id": "nRI9BKCp6J2e"
      },
      "source": [
        "##5-1. Formatting"
      ]
    },
    {
      "cell_type": "code",
      "metadata": {
        "colab": {
          "base_uri": "https://localhost:8080/",
          "height": 34
        },
        "id": "eS-jMiAb6Pe3",
        "outputId": "dc763899-16cf-45f0-d2cb-23b02b7cfd61"
      },
      "source": [
        " 'aaa%s' % 'bbb'"
      ],
      "execution_count": 34,
      "outputs": [
        {
          "output_type": "execute_result",
          "data": {
            "application/vnd.google.colaboratory.intrinsic+json": {
              "type": "string"
            },
            "text/plain": [
              "'aaabbb'"
            ]
          },
          "metadata": {
            "tags": []
          },
          "execution_count": 34
        }
      ]
    },
    {
      "cell_type": "code",
      "metadata": {
        "colab": {
          "base_uri": "https://localhost:8080/",
          "height": 34
        },
        "id": "QeEYEjqs6fc4",
        "outputId": "2c9159a5-1a2a-4846-e9e1-124abfdb5cf4"
      },
      "source": [
        "'aaa{}'.format('bbb')"
      ],
      "execution_count": 35,
      "outputs": [
        {
          "output_type": "execute_result",
          "data": {
            "application/vnd.google.colaboratory.intrinsic+json": {
              "type": "string"
            },
            "text/plain": [
              "'aaabbb'"
            ]
          },
          "metadata": {
            "tags": []
          },
          "execution_count": 35
        }
      ]
    },
    {
      "cell_type": "markdown",
      "metadata": {
        "id": "lVcfgBa77uRv"
      },
      "source": [
        "##5-2. Slicing[a:b] : 문자열의 a번째부터 (b-1)번째까지 가져오기"
      ]
    },
    {
      "cell_type": "code",
      "metadata": {
        "colab": {
          "base_uri": "https://localhost:8080/",
          "height": 34
        },
        "id": "qRe7Q2Yx7i2A",
        "outputId": "431c4239-3400-4fa0-d076-f856eecc934a"
      },
      "source": [
        "name = 'ABCDEF G'\n",
        "name[3:6]"
      ],
      "execution_count": 49,
      "outputs": [
        {
          "output_type": "execute_result",
          "data": {
            "application/vnd.google.colaboratory.intrinsic+json": {
              "type": "string"
            },
            "text/plain": [
              "'DEF'"
            ]
          },
          "metadata": {
            "tags": []
          },
          "execution_count": 49
        }
      ]
    },
    {
      "cell_type": "markdown",
      "metadata": {
        "id": "lbrYgZk_9R-U"
      },
      "source": [
        "##5-3 split() : 문자열을 ()안에 있는 내용을 기준으로 list로 바꾸기 / 공백이면 공백을 기준으로 list형변환_실제 바꾸는 게 아니라 출력만 그렇게 함"
      ]
    },
    {
      "cell_type": "code",
      "metadata": {
        "colab": {
          "base_uri": "https://localhost:8080/"
        },
        "id": "t9ZDM6e97orR",
        "outputId": "65d798a6-aa5d-46c2-a50d-fd946bb8e4a5"
      },
      "source": [
        "name.split()"
      ],
      "execution_count": 51,
      "outputs": [
        {
          "output_type": "execute_result",
          "data": {
            "text/plain": [
              "['ABCDEF', 'G']"
            ]
          },
          "metadata": {
            "tags": []
          },
          "execution_count": 51
        }
      ]
    },
    {
      "cell_type": "code",
      "metadata": {
        "colab": {
          "base_uri": "https://localhost:8080/"
        },
        "id": "4zuDNMIN99dh",
        "outputId": "ae1c6881-a9d6-4ec7-c961-ea8c0ef92fb8"
      },
      "source": [
        "name.split('B')"
      ],
      "execution_count": 52,
      "outputs": [
        {
          "output_type": "execute_result",
          "data": {
            "text/plain": [
              "['A', 'CDEF G']"
            ]
          },
          "metadata": {
            "tags": []
          },
          "execution_count": 52
        }
      ]
    },
    {
      "cell_type": "code",
      "metadata": {
        "colab": {
          "base_uri": "https://localhost:8080/",
          "height": 34
        },
        "id": "xmsiNqUs_A7s",
        "outputId": "0a5d0536-5cca-42b1-adae-da1b74d3a724"
      },
      "source": [
        "name"
      ],
      "execution_count": 54,
      "outputs": [
        {
          "output_type": "execute_result",
          "data": {
            "application/vnd.google.colaboratory.intrinsic+json": {
              "type": "string"
            },
            "text/plain": [
              "'ABCDEF G'"
            ]
          },
          "metadata": {
            "tags": []
          },
          "execution_count": 54
        }
      ]
    },
    {
      "cell_type": "markdown",
      "metadata": {
        "id": "ZJFcRniH-qFB"
      },
      "source": [
        "##5-4 strip() : 문자열 양 끝에 있는 문자가 괄호안에 들어있을 때 지워서 출력"
      ]
    },
    {
      "cell_type": "code",
      "metadata": {
        "colab": {
          "base_uri": "https://localhost:8080/",
          "height": 34
        },
        "id": "KWbcr6Ro-0_R",
        "outputId": "8cea6ad9-27ef-40fa-bd04-08bd7d0609ed"
      },
      "source": [
        "name.strip('AB')"
      ],
      "execution_count": 60,
      "outputs": [
        {
          "output_type": "execute_result",
          "data": {
            "application/vnd.google.colaboratory.intrinsic+json": {
              "type": "string"
            },
            "text/plain": [
              "'CDEF G'"
            ]
          },
          "metadata": {
            "tags": []
          },
          "execution_count": 60
        }
      ]
    },
    {
      "cell_type": "code",
      "metadata": {
        "colab": {
          "base_uri": "https://localhost:8080/",
          "height": 34
        },
        "id": "PKQx4Epx_Wes",
        "outputId": "a1be9923-2dbf-46b2-b94c-81254e084a09"
      },
      "source": [
        "name.strip('G')"
      ],
      "execution_count": 61,
      "outputs": [
        {
          "output_type": "execute_result",
          "data": {
            "application/vnd.google.colaboratory.intrinsic+json": {
              "type": "string"
            },
            "text/plain": [
              "'ABCDEF '"
            ]
          },
          "metadata": {
            "tags": []
          },
          "execution_count": 61
        }
      ]
    },
    {
      "cell_type": "code",
      "metadata": {
        "colab": {
          "base_uri": "https://localhost:8080/",
          "height": 34
        },
        "id": "Xn_8Lo4T_aFS",
        "outputId": "5b534458-6475-45e1-f07a-d5cdaf9e813b"
      },
      "source": [
        "name.strip('B')"
      ],
      "execution_count": 62,
      "outputs": [
        {
          "output_type": "execute_result",
          "data": {
            "application/vnd.google.colaboratory.intrinsic+json": {
              "type": "string"
            },
            "text/plain": [
              "'ABCDEF G'"
            ]
          },
          "metadata": {
            "tags": []
          },
          "execution_count": 62
        }
      ]
    },
    {
      "cell_type": "markdown",
      "metadata": {
        "id": "3l1vBy5I-zyK"
      },
      "source": [
        "## < 파이썬 필기, 용어>\r\n",
        "\tprint 출력\r\n",
        "print(“출력하고 싶은 내용” 333)\r\n",
        "\tinput 사용자로부터 입력\r\n",
        "input() == scanf int c\r\n",
        "\tVariable ; 변수 \r\n",
        "값(객체의 임의의 위치)에 이름을 붙여준다 / 파이썬은 객체지향형\r\n",
        "\tVariable Naming\r\n",
        "한/영, _ , 모든 유니코드, 대소문자 구분 가능\r\n",
        "숫자 시작 안됨(포함은 가능). 띄어쓰기 엑스(_로 대체)\r\n",
        "\tData type- type()-변수의 type을 알 수 있도록 \r\n",
        "\tBoolean – 참, 거짓 분별 True/False\r\n",
        "\t여러 개 문자열 List-뒤에서 다룸\r\n",
        "\tTuple- list에 비해 안에 있는 값을 바꿀 수 없음.\r\n",
        "\tDictionary{}-키와 값을 쌍으로 묶어야 됨.\r\n",
        "\tint(), str()문자열 – 강제 형 변환\r\n",
        "\tcomment # <-주석 달 때.\r\n",
        "\tstring “ ”,’ ’ – 문자열-> 값 변경x\r\n",
        "“““aaa\r\n",
        "Bbb\r\n",
        "Ccc\r\n",
        "”””\r\n",
        "를 ‘aaa\\nBbb\\nCcc’로 자동저장해줌\r\n",
        "\tFormatting %연산자 사용, %d %s %f (한번에 여러 개 대입 가능, c적합 코드)\r\n",
        "{}로 대신해서 쓸 수도 있음. 여기서 format()으로 안에 들어갈 변수 입력. (한번에 한 변수만 대입 가능, 파이썬에 적합)\r\n",
        "‘aaa %s’ %‘bbb’ == ‘aaa{}.format(‘bbb’) == ‘aaabbb’\r\n",
        "\tIndexing- 주소, 위치\r\n",
        "--------------------------------12.31.GitHub에 올림-------------------------------------\r\n",
        "\tSlicing [a:b] name = ‘abcde’; name[1:3] = ‘bc’\r\n",
        "\tstring에서 split()은 이미 만들어진 함수에서 문자열 나누기 -> 띄어쓰기로 분리(공백을 기준으로) 4\r\n",
        "\tDocstring- print(‘ ‘,end=’ ‘) – 출력의 끝을 지정\r\n",
        "\tEscape code - \\n,\\t 등등\r\n",
        "\t;은 한줄이 끝났다는 신호( 굳이 안써도 됨.) 한줄엔 한문장씩만 쓰는게 제일 좋음. 여러 개 명령때만 사용.\r\n",
        "\r\n",
        "\tList – 반복문 여러 개를 한번에 저장(많은 데이터를 한번에 저장) 데이터 변수를 여러 개 하는 불상사를 줄임. [val1,val2,,,,,] immutable(값변경x, 문자열),mutble(값변경o)list는muttable\r\n",
        "list.append()로 list에 추가할 수 있음.\r\n",
        "\tIndexing – 주소개념, 값을 가져오거나 바꿀 수 있음. 0부터 시작. my_animals[0,1,2,3,4], 로 각 위치를 선정할 수 있음.\r\n",
        "del animals[ ]하면 그 위치의 값을 지울 수 있음. 넣는 건 animals.append()로\r\n",
        "\t[a:b]로 값을 한번에 가져올 수 도[ :a]는 처음부터 지정까지 - Slicing이라,\r\n",
        "\tlist.sort()- 가나다 순으로 정렬을 , 위치바뀜\r\n",
        "\tlist.count()-같은 값이 여러 개 있을 때, 그 list안에 그 값이 몇 개 있는지 알기 위해 사용.\r\n",
        "\tlen(list)- 개수를 세주는 함수로, 리스트안에 몇 개의 값이 있는지 세우주는 함수.\r\n",
        "\r\n",
        "\tTuple – immutable (val1,val2, , ) 괄호없이도 가능, list와 비슷\r\n",
        "\tPacking/Unpacking – 묶음의 과정 변수가 있는 거를 바꿀 때 사용\r\n",
        "\tfor문 – 반복되는 작업을 처리.\r\n",
        " for 변수 in 컨테이너:\r\n",
        "____실행명령1\r\n",
        "____실행명령2 (코드블럭을 구분하기 위해서 ____띄어쓰기와 :는 꼭사용) 끠어쓰기는 한번쓰면 계속해서 지켜서 사용해야 함.\r\n",
        "\trange() 자료형 형태 range(3)이면,, 0,1,2의 형태가 만들어짐.\r\n",
        "for number in [0, 1, 2]\r\n",
        "for number in range(3)은 같은거\r\n",
        "\t중복 for문 – 구구단 할 때 유용. C를 잘 생각해보자ㅣㅅ. 들여쓰기 중요\r\n",
        "\tComprehension – \r\n",
        "\tOperator -연산자\r\n",
        "\tAsign – \r\n",
        "=  오른쪽 값을 왼쪽에 할당. ==는 같다를 판단\r\n",
        "+= 그 값에 더해준 값을 할당\r\n",
        "-= *= \\=\r\n",
        "\tArithemetic- 연산자 + - / * \r\n",
        "특수연산자 **(4**3 4의3승) //(몫만 남음) %(나머지)\r\n",
        "\tString 문자열 +(문자를 연결할 때) *(반복) 연산자 사용가능.\r\n",
        "\tcls() 엔터를 백번\r\n",
        "\t비교연산자\r\n",
        "== \r\n",
        "!=\r\n",
        ">\r\n",
        "<\r\n",
        ">= <=\r\n",
        "\t논리 연산자\r\n",
        "and or not\r\n",
        "\tMembership(연산자) – list안에 값이 있는지 없는지 확인 in / not in\r\n",
        "\tif 조건문\r\n",
        "if 조건:\r\n",
        "----실행명령1\r\n",
        "----실행명령2(-은 섞어쓰면 X)\r\n",
        "if- else else if로 여러 중첩가능\r\n",
        "\tLoop반복문 – while – 조건에서 T면 들어옴, 하지만 다 끝나도 조건을 다시 검사해서 반복.\r\n",
        "while 조건:\r\n",
        "----실행명령1\r\n",
        "----실행명령2\r\n",
        "\tcontinue / break 반복문안에서 사용.\r\n",
        "\tDictionary –(list와는 다름) {key1: val1. …}한 리스트에 이름을 붙여준다는 개념.\r\n",
        "\tdict.values()-코드의 모음 이거는 dict(list)만 사용할 수 있는. 값만 가져올 때 사용.\r\n",
        "\tdict.keys()- dict의 키만 가져올 때 사용.\r\n",
        "\tdict.items()- dict의 키와 값을 모두 가져올 때 사용\r\n",
        "\tFunction- 내장함수, 모듈의 함수, 사용자 정의함수\r\n",
        "\t\r\n",
        "def 함수이름(인자1, ,,,): #인자는 입력값을 말함. =매개변수\r\n",
        "____실행명령1\r\n",
        "____실행명령2\r\n",
        "\r\n",
        "____return 결과 #결과값을 2개를 다시 돌려받을 수 있음. 하지만 이 결과값은 묶여서 Tuple의 형태로 한 개 값인 형태로 돌려줌.\r\n",
        "\t함수? – 다시 사용할 수 있음. 코드 간략화. 조립해서 사용가능. \r\n",
        "\tModule- 이미 만들어진 함수들을 모아둔 모음집\r\n",
        "\trandom- 무작위 함수들을 모아둔 함수.\r\n",
        "import random\r\n",
        "--\r\n",
        "\trandom.choice() #만들어둔 list안에서 값을 랜덤하게 뽑아주는 역할\r\n",
        "\trandom.sample() – 여러 개의 값을 중복없이 뽑을 수 있음.\r\n",
        "\tramdom.randint() – 숫자의 범위를 지정해서 뽑을 수 있음.\r\n",
        "\tObject-객체. 함수와 데이터들을 모아서 객체를 만들 수 있음. \r\n",
        "\t\r\n",
        "\r\n",
        "\r\n",
        "\r\n"
      ]
    }
  ]
}