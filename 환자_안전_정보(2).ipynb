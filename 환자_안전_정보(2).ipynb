{
  "nbformat": 4,
  "nbformat_minor": 0,
  "metadata": {
    "colab": {
      "name": "환자 안전 정보(2).ipynb",
      "provenance": [],
      "collapsed_sections": [],
      "authorship_tag": "ABX9TyOvDX9hajWUrZ1v8di1nToz",
      "include_colab_link": true
    },
    "kernelspec": {
      "name": "python3",
      "display_name": "Python 3"
    }
  },
  "cells": [
    {
      "cell_type": "markdown",
      "metadata": {
        "id": "view-in-github",
        "colab_type": "text"
      },
      "source": [
        "<a href=\"https://colab.research.google.com/github/ksh001/python/blob/main/%ED%99%98%EC%9E%90_%EC%95%88%EC%A0%84_%EC%A0%95%EB%B3%B4(2).ipynb\" target=\"_parent\"><img src=\"https://colab.research.google.com/assets/colab-badge.svg\" alt=\"Open In Colab\"/></a>"
      ]
    },
    {
      "cell_type": "code",
      "metadata": {
        "colab": {
          "base_uri": "https://localhost:8080/",
          "height": 308
        },
        "id": "ZSc0FTqC3XeN",
        "outputId": "1b21ed1a-6c43-49fa-b8c6-d5e809519b13"
      },
      "source": [
        "import pandas as pd\r\n",
        "\r\n",
        "df = pd.read_csv('/의료기관평가인증원_환자안전 사고데이터_20181231..csv', encoding='cp949')\r\n",
        "\r\n",
        "df.head(2)"
      ],
      "execution_count": 5,
      "outputs": [
        {
          "output_type": "execute_result",
          "data": {
            "text/html": [
              "<div>\n",
              "<style scoped>\n",
              "    .dataframe tbody tr th:only-of-type {\n",
              "        vertical-align: middle;\n",
              "    }\n",
              "\n",
              "    .dataframe tbody tr th {\n",
              "        vertical-align: top;\n",
              "    }\n",
              "\n",
              "    .dataframe thead th {\n",
              "        text-align: right;\n",
              "    }\n",
              "</style>\n",
              "<table border=\"1\" class=\"dataframe\">\n",
              "  <thead>\n",
              "    <tr style=\"text-align: right;\">\n",
              "      <th></th>\n",
              "      <th>NO</th>\n",
              "      <th>보고자</th>\n",
              "      <th>사고발생일</th>\n",
              "      <th>사고발생시간</th>\n",
              "      <th>사고발견일</th>\n",
              "      <th>사고발견시간</th>\n",
              "      <th>의료기관구분</th>\n",
              "      <th>병상 규모</th>\n",
              "      <th>사고발생장소</th>\n",
              "      <th>위해정도</th>\n",
              "      <th>사고의 종류</th>\n",
              "      <th>사고 발생 후 조치사항</th>\n",
              "      <th>내부보고여부</th>\n",
              "      <th>환자_연령대</th>\n",
              "      <th>환자_성별</th>\n",
              "      <th>환자_진료과목</th>\n",
              "      <th>환자_세부진료과목</th>\n",
              "      <th>환자_사고발생진료과목</th>\n",
              "      <th>환자_사고발생세부진료과목</th>\n",
              "      <th>환자_진단명</th>\n",
              "    </tr>\n",
              "  </thead>\n",
              "  <tbody>\n",
              "    <tr>\n",
              "      <th>0</th>\n",
              "      <td>1</td>\n",
              "      <td>보건의료인</td>\n",
              "      <td>2017-12-30</td>\n",
              "      <td>06:00</td>\n",
              "      <td>2017-12-30</td>\n",
              "      <td>06:00</td>\n",
              "      <td>요양병원</td>\n",
              "      <td>200병상 이상 500병상 미만</td>\n",
              "      <td>기타</td>\n",
              "      <td>장기적인 손상 또는 부작용</td>\n",
              "      <td>낙상</td>\n",
              "      <td>기관 내 전과나 전동,전원,외래환자의 경우 응급실 방문/입원 등,모니터링(관찰,영상...</td>\n",
              "      <td>보고 수행</td>\n",
              "      <td>80세 이상</td>\n",
              "      <td>여자</td>\n",
              "      <td>의과</td>\n",
              "      <td>가정의학과</td>\n",
              "      <td>의과</td>\n",
              "      <td>가정의학과</td>\n",
              "      <td>알츠하이머병에서의 치매(G30.-+)</td>\n",
              "    </tr>\n",
              "    <tr>\n",
              "      <th>1</th>\n",
              "      <td>2</td>\n",
              "      <td>전담인력</td>\n",
              "      <td>2017-12-19</td>\n",
              "      <td>불명확</td>\n",
              "      <td>2017-12-19</td>\n",
              "      <td>불명확</td>\n",
              "      <td>종합병원</td>\n",
              "      <td>200병상 이상 500병상 미만</td>\n",
              "      <td>검사실</td>\n",
              "      <td>치료 후 후유증 없이 회복</td>\n",
              "      <td>기타</td>\n",
              "      <td>모니터링(관찰,영상판독 등),기타(협진)</td>\n",
              "      <td>보고 수행</td>\n",
              "      <td>30~39세</td>\n",
              "      <td>여자</td>\n",
              "      <td>의과</td>\n",
              "      <td>검진센터</td>\n",
              "      <td>의과</td>\n",
              "      <td>검진센터</td>\n",
              "      <td>불명확</td>\n",
              "    </tr>\n",
              "  </tbody>\n",
              "</table>\n",
              "</div>"
            ],
            "text/plain": [
              "   NO    보고자       사고발생일  ... 환자_사고발생진료과목 환자_사고발생세부진료과목                환자_진단명\n",
              "0   1  보건의료인  2017-12-30  ...          의과         가정의학과  알츠하이머병에서의 치매(G30.-+)\n",
              "1   2   전담인력  2017-12-19  ...          의과          검진센터                   불명확\n",
              "\n",
              "[2 rows x 20 columns]"
            ]
          },
          "metadata": {
            "tags": []
          },
          "execution_count": 5
        }
      ]
    },
    {
      "cell_type": "code",
      "metadata": {
        "colab": {
          "base_uri": "https://localhost:8080/"
        },
        "id": "4wCDN4y878j9",
        "outputId": "ef471688-444c-46b6-c2e8-21e3613785a7"
      },
      "source": [
        "df1=df[df['사고의 종류'] == '낙상']\r\n",
        "df1['환자_연령대'].value_counts()"
      ],
      "execution_count": 8,
      "outputs": [
        {
          "output_type": "execute_result",
          "data": {
            "text/plain": [
              "80세 이상    1235\n",
              "70~79세    1141\n",
              "60~69세     796\n",
              "50~59세     489\n",
              "40~49세     193\n",
              "불명확        120\n",
              "30~39세      89\n",
              "1~9세        80\n",
              "20~29세      44\n",
              "0세          20\n",
              "10~19세      17\n",
              "Name: 환자_연령대, dtype: int64"
            ]
          },
          "metadata": {
            "tags": []
          },
          "execution_count": 8
        }
      ]
    },
    {
      "cell_type": "code",
      "metadata": {
        "colab": {
          "base_uri": "https://localhost:8080/"
        },
        "id": "KkSQXN3zEtE2",
        "outputId": "9463dd01-73aa-4613-aed3-e18951546e5b"
      },
      "source": [
        "df1['위해정도'].value_counts()"
      ],
      "execution_count": 50,
      "outputs": [
        {
          "output_type": "execute_result",
          "data": {
            "text/plain": [
              "치료 후 후유증 없이 회복    1685\n",
              "위해없음              1285\n",
              "일시적인 손상 또는 부작용     783\n",
              "장기적인 손상 또는 부작용     443\n",
              "사망                  22\n",
              "영구적인 손상 또는 부작용       6\n",
              "Name: 위해정도, dtype: int64"
            ]
          },
          "metadata": {
            "tags": []
          },
          "execution_count": 50
        }
      ]
    },
    {
      "cell_type": "code",
      "metadata": {
        "colab": {
          "base_uri": "https://localhost:8080/"
        },
        "id": "TYoXUuZlE2zK",
        "outputId": "41b1e24e-defc-4cff-8d4a-9d36c52a8d29"
      },
      "source": [
        "df1['사고 발생 후 조치사항'].value_counts()"
      ],
      "execution_count": 52,
      "outputs": [
        {
          "output_type": "execute_result",
          "data": {
            "text/plain": [
              "모니터링(관찰,영상판독 등)                                                               919\n",
              "모니터링(관찰,영상판독 등),기타(교육)                                                        366\n",
              "모니터링(관찰,영상판독 등),검사 추가                                                         291\n",
              "기타(교육)                                                                        290\n",
              "모니터링(관찰,영상판독 등),검사 추가,기타(교육)                                                  214\n",
              "                                                                             ... \n",
              "모니터링(관찰,영상판독 등),검사 추가,기타(기타(재활치료 변경))                                           1\n",
              "기타(기타(보조기))                                                                     1\n",
              "기관 내 전과나 전동,전원,외래환자의 경우 응급실 방문/입원 등,모니터링(관찰,영상판독 등),투약 치료,기타(기타(splint적용))      1\n",
              "모니터링(관찰,영상판독 등),기타(기타(당직교수에게 알림))                                               1\n",
              "모니터링(관찰,영상판독 등),검사 추가,심리치료                                                      1\n",
              "Name: 사고 발생 후 조치사항, Length: 244, dtype: int64"
            ]
          },
          "metadata": {
            "tags": []
          },
          "execution_count": 52
        }
      ]
    },
    {
      "cell_type": "code",
      "metadata": {
        "colab": {
          "base_uri": "https://localhost:8080/"
        },
        "id": "F6KocnGlE9PL",
        "outputId": "3a91ced4-fbda-41a3-d07b-1de0cec35d22"
      },
      "source": [
        "df1['병상 규모'].value_counts()"
      ],
      "execution_count": 53,
      "outputs": [
        {
          "output_type": "execute_result",
          "data": {
            "text/plain": [
              "200병상 이상 500병상 미만    2068\n",
              "500병상 이상             1674\n",
              "200병상 미만              476\n",
              "항목없음                    5\n",
              "불명확                     1\n",
              "Name: 병상 규모, dtype: int64"
            ]
          },
          "metadata": {
            "tags": []
          },
          "execution_count": 53
        }
      ]
    },
    {
      "cell_type": "code",
      "metadata": {
        "colab": {
          "base_uri": "https://localhost:8080/"
        },
        "id": "X0vp9AunFP1X",
        "outputId": "780cfe2c-7e94-421b-b110-f06e8c7c8e85"
      },
      "source": [
        "df1['환자_진단명'].value_counts()[:20]"
      ],
      "execution_count": 9,
      "outputs": [
        {
          "output_type": "execute_result",
          "data": {
            "text/plain": [
              "불명확                               772\n",
              "상세불명의 뇌경색증                        133\n",
              "상세불명의 알츠하이머병에서의 치매(G30.9†)        121\n",
              "상세불명의 편마비                          71\n",
              "파킨슨병                               66\n",
              "만성 신장병(5기)                         64\n",
              "뇌경색증                               60\n",
              "상세불명의 폐렴                           54\n",
              "알츠하이머병에서의 치매(G30.-+)               51\n",
              "척추협착, 요추부                          39\n",
              "열린 두개내상처가 없는 외상성 경막하출혈             38\n",
              "조현병                                35\n",
              "기타 뇌경색증                            34\n",
              "어지럼증 및 어지럼                         33\n",
              "기타 및 상세불명의 원발성 고혈압                 32\n",
              "상세불명의 뇌내출혈                         32\n",
              "상세불명의 기관지 또는 폐의 악성 신생물, 상세불명 쪽     30\n",
              "간세포암종의 악성 신생물                      29\n",
              "알콜의 의존증후군                          27\n",
              "만기발병 알츠하이머병에서의 치매(G30.1†)          26\n",
              "Name: 환자_진단명, dtype: int64"
            ]
          },
          "metadata": {
            "tags": []
          },
          "execution_count": 9
        }
      ]
    },
    {
      "cell_type": "code",
      "metadata": {
        "colab": {
          "base_uri": "https://localhost:8080/"
        },
        "id": "_8I9pio1FWyT",
        "outputId": "4dc613d3-d49c-490f-d6a8-f515a1cadec1"
      },
      "source": [
        "df1['사고발생장소'].value_counts()"
      ],
      "execution_count": 10,
      "outputs": [
        {
          "output_type": "execute_result",
          "data": {
            "text/plain": [
              "입원실      2556\n",
              "기타       1426\n",
              "검사실        86\n",
              "응급실        80\n",
              "외래진료실      34\n",
              "중환자실       17\n",
              "처치실        13\n",
              "주사실         6\n",
              "회복실         3\n",
              "수술실         3\n",
              "Name: 사고발생장소, dtype: int64"
            ]
          },
          "metadata": {
            "tags": []
          },
          "execution_count": 10
        }
      ]
    },
    {
      "cell_type": "code",
      "metadata": {
        "id": "gpd5UJ0nKUEC"
      },
      "source": [
        ""
      ],
      "execution_count": null,
      "outputs": []
    }
  ]
}